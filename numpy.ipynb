{
  "nbformat": 4,
  "nbformat_minor": 0,
  "metadata": {
    "colab": {
      "name": "numpy.ipynb",
      "provenance": [],
      "authorship_tag": "ABX9TyO5bC5IevDLdvkfAeWfewen",
      "include_colab_link": true
    },
    "kernelspec": {
      "name": "python3",
      "display_name": "Python 3"
    },
    "language_info": {
      "name": "python"
    }
  },
  "cells": [
    {
      "cell_type": "markdown",
      "metadata": {
        "id": "view-in-github",
        "colab_type": "text"
      },
      "source": [
        "<a href=\"https://colab.research.google.com/github/surajit0609/numpy/blob/main/numpy.ipynb\" target=\"_parent\"><img src=\"https://colab.research.google.com/assets/colab-badge.svg\" alt=\"Open In Colab\"/></a>"
      ]
    },
    {
      "cell_type": "code",
      "execution_count": 7,
      "metadata": {
        "colab": {
          "base_uri": "https://localhost:8080/"
        },
        "id": "C6oFRA5cc4MX",
        "outputId": "d8d6201f-8635-4ef6-d3a0-44457b5bd694"
      },
      "outputs": [
        {
          "output_type": "execute_result",
          "data": {
            "text/plain": [
              "array([3, 4, 5, 6])"
            ]
          },
          "metadata": {},
          "execution_count": 7
        }
      ],
      "source": [
        "import numpy as np\n",
        "## 1D array implementaion\n",
        "ar=np.array([3,4,5,6])\n",
        "ar"
      ]
    },
    {
      "cell_type": "code",
      "source": [
        "## 2D array implementation\n",
        "arr = np.array([[1, 2, 3],\n",
        "                [4, 5, 6]])\n",
        "arr"
      ],
      "metadata": {
        "colab": {
          "base_uri": "https://localhost:8080/"
        },
        "id": "0GHmvDoJdvaF",
        "outputId": "40080de5-1b75-4353-f955-a78fd519a8be"
      },
      "execution_count": 6,
      "outputs": [
        {
          "output_type": "execute_result",
          "data": {
            "text/plain": [
              "array([[1, 2, 3],\n",
              "       [4, 5, 6]])"
            ]
          },
          "metadata": {},
          "execution_count": 6
        }
      ]
    },
    {
      "cell_type": "code",
      "source": [
        "# Creating an array from tuple\n",
        "tup = np.array((1, 3, 2))\n",
        "tup"
      ],
      "metadata": {
        "colab": {
          "base_uri": "https://localhost:8080/"
        },
        "id": "6dyW-P86emuE",
        "outputId": "25300d9d-9b59-4b58-c6e7-533a73b189f5"
      },
      "execution_count": 12,
      "outputs": [
        {
          "output_type": "execute_result",
          "data": {
            "text/plain": [
              "array([1, 3, 2])"
            ]
          },
          "metadata": {},
          "execution_count": 12
        }
      ]
    },
    {
      "cell_type": "code",
      "source": [
        "##Accessing the array Index\n",
        "arr = np.array([[-1, 2, 0, 4],\n",
        "                [4, -0.5, 6, 0],\n",
        "                [2.6, 0, 7, 8],\n",
        "                [3, -7, 4, 2.0]])\n",
        "arr\n",
        "# Printing a range of Array\n",
        "# with the use of slicing method\n",
        "slcing_arry=arr[:2, ::2]\n",
        "slcing_arry\n",
        "# specific Indices\n",
        "Index_arr = arr[[1, 1, 0, 3], \n",
        "                [3, 2, 1, 0]]\n",
        "Index_arr\n"
      ],
      "metadata": {
        "colab": {
          "base_uri": "https://localhost:8080/"
        },
        "id": "xHChExH8fTtx",
        "outputId": "04f7f77b-3afe-4122-bc22-c889a1db5409"
      },
      "execution_count": 22,
      "outputs": [
        {
          "output_type": "execute_result",
          "data": {
            "text/plain": [
              "array([0., 6., 2., 3.])"
            ]
          },
          "metadata": {},
          "execution_count": 22
        }
      ]
    },
    {
      "cell_type": "code",
      "source": [
        "# ##Basic Array Operations\n",
        "arry1=np.array([[1,2,3,7],\n",
        "               [4,6,7,8]])\n",
        "arry2=np.array([[1,2,3,7],\n",
        "               [4,6,7,8]])\n",
        "print(arry1+1)\n",
        "print(arry1.sum())\n",
        "print(arry1+arry2)"
      ],
      "metadata": {
        "id": "K1NiUhxdiZPP"
      },
      "execution_count": null,
      "outputs": []
    },
    {
      "cell_type": "code",
      "source": [
        "#####Data Types in Numpy\n",
        "import numpy as np\n",
        "x=np.array([1,2,3])\n",
        "print(x.dtype)\n",
        "x=np.array([\"surajit\",\"rahul\"])\n",
        "print(x.dtype)\n"
      ],
      "metadata": {
        "colab": {
          "base_uri": "https://localhost:8080/"
        },
        "id": "O3kC7cBYk5zq",
        "outputId": "ca3318c6-52b4-4197-a8fa-687b551ca7fa"
      },
      "execution_count": 5,
      "outputs": [
        {
          "output_type": "stream",
          "name": "stdout",
          "text": [
            "int64\n",
            "<U7\n"
          ]
        }
      ]
    },
    {
      "cell_type": "code",
      "source": [
        "##Math Operations on DataType array\n",
        "arry1=np.array([[1,2,5],[3,6,9]],dtype=np.float)\n",
        "print(arry1)\n",
        "# sum=np.sum(arry1)\n",
        "# sum\n",
        "squar=np.sqrt(arry1)\n",
        "squar"
      ],
      "metadata": {
        "id": "S7fmT9BB3LWG"
      },
      "execution_count": null,
      "outputs": []
    },
    {
      "cell_type": "code",
      "source": [
        "## shape \n",
        "import numpy as np\n",
        "\n",
        "sample_array = np.array([[0, 4, 2],\n",
        "\t\t\t\t\t[3, 4, 5],\n",
        "\t\t\t\t\t[23, 4, 5],\n",
        "\t\t\t\t\t[2, 34, 5],\n",
        "\t\t\t\t\t[5, 6, 7]])\n",
        "\n",
        "print(\"shape of the array :\",\n",
        "\tsample_array.shape)\n"
      ],
      "metadata": {
        "colab": {
          "base_uri": "https://localhost:8080/"
        },
        "id": "Qn2AyYlw7D7D",
        "outputId": "36b150b0-9417-4b74-9f5c-cdf6804b1a28"
      },
      "execution_count": 12,
      "outputs": [
        {
          "output_type": "stream",
          "name": "stdout",
          "text": [
            "shape of the array : (5, 3)\n"
          ]
        }
      ]
    },
    {
      "cell_type": "code",
      "source": [
        "## fromiter\n",
        "#Import numpy module\n",
        "import numpy as np\n",
        "\n",
        "# iterable\n",
        "iterable = (a*a for a in range(8))\n",
        "arr = np.fromiter(iterable, float)\n",
        "print(\"fromiter() array :\",arr)\n"
      ],
      "metadata": {
        "colab": {
          "base_uri": "https://localhost:8080/"
        },
        "id": "jvcWOEEU7TpL",
        "outputId": "54bc7d27-f4f1-4d99-a815-d37255f61596"
      },
      "execution_count": 16,
      "outputs": [
        {
          "output_type": "stream",
          "name": "stdout",
          "text": [
            "fromiter() array : [ 0.  1.  4.  9. 16. 25. 36. 49.]\n"
          ]
        }
      ]
    },
    {
      "cell_type": "code",
      "source": [
        "## fromiter use\n",
        "var=\"geekforgeek\"\n",
        "shap=np.fromiter(var, dtype = 'U2')\n",
        "shap"
      ],
      "metadata": {
        "colab": {
          "base_uri": "https://localhost:8080/"
        },
        "id": "M4KFkxum74Nt",
        "outputId": "12a2cd50-00d8-4fae-8c65-e19546b97665"
      },
      "execution_count": 19,
      "outputs": [
        {
          "output_type": "execute_result",
          "data": {
            "text/plain": [
              "array(['g', 'e', 'e', 'k', 'f', 'o', 'r', 'g', 'e', 'e', 'k'], dtype='<U2')"
            ]
          },
          "metadata": {},
          "execution_count": 19
        }
      ]
    },
    {
      "cell_type": "code",
      "source": [
        "##numpy.arange():\n",
        "np.arange(1,20,2, dtype = np.float32)"
      ],
      "metadata": {
        "id": "ESbaegcG8fot"
      },
      "execution_count": null,
      "outputs": []
    },
    {
      "cell_type": "code",
      "source": [
        "### empty\n",
        "np.empty([4,3])"
      ],
      "metadata": {
        "id": "zG4nQVAL89Bk"
      },
      "execution_count": null,
      "outputs": []
    },
    {
      "cell_type": "code",
      "source": [
        "### one\n",
        "np.ones([4,3])"
      ],
      "metadata": {
        "colab": {
          "base_uri": "https://localhost:8080/"
        },
        "id": "_6QZnBdw9YRG",
        "outputId": "5f9db48c-8247-4915-bd79-c5e12180ce12"
      },
      "execution_count": 24,
      "outputs": [
        {
          "output_type": "execute_result",
          "data": {
            "text/plain": [
              "array([[1., 1., 1.],\n",
              "       [1., 1., 1.],\n",
              "       [1., 1., 1.],\n",
              "       [1., 1., 1.]])"
            ]
          },
          "metadata": {},
          "execution_count": 24
        }
      ]
    },
    {
      "cell_type": "code",
      "source": [
        "##numpy.arange() in Python\n",
        "import numpy as np\n",
        "print( np.arange(4).reshape(2, 2) )"
      ],
      "metadata": {
        "colab": {
          "base_uri": "https://localhost:8080/"
        },
        "id": "QOd9X6fc_o5q",
        "outputId": "e02739d0-b2ee-476e-8bd6-e2efbe197fd7"
      },
      "execution_count": 31,
      "outputs": [
        {
          "output_type": "stream",
          "name": "stdout",
          "text": [
            "[[0 1]\n",
            " [2 3]]\n"
          ]
        }
      ]
    },
    {
      "cell_type": "code",
      "source": [
        "###numpy.zeros() in Python\n",
        "np.zeros([2,2],dtype = int)\n",
        "np.zeros(2,dtype=int)"
      ],
      "metadata": {
        "colab": {
          "base_uri": "https://localhost:8080/"
        },
        "id": "gErIPWfBDYvS",
        "outputId": "d931f134-a93a-44a2-9c41-f7e803578690"
      },
      "execution_count": 35,
      "outputs": [
        {
          "output_type": "execute_result",
          "data": {
            "text/plain": [
              "array([0, 0])"
            ]
          },
          "metadata": {},
          "execution_count": 35
        }
      ]
    },
    {
      "cell_type": "code",
      "source": [
        "##numpy.linspace() in Python\n",
        "np.linspace(1,2,10)\n",
        "# Graphical Representation of numpy.linspace()\n",
        "import numpy as geek\n",
        "import pylab as p\n",
        "\n",
        "# Start = 0\n",
        "# End = 2\n",
        "# Samples to generate = 10\n",
        "x1 = geek.linspace(0, 2, 10, endpoint = True)\n",
        "y1 = geek.ones(10)\n",
        "\n",
        "p.plot(x1, y1, '*')\n",
        "p.xlim(-0.2, 1.8)\n"
      ],
      "metadata": {
        "id": "pjSwRXTFExNg"
      },
      "execution_count": null,
      "outputs": []
    },
    {
      "cell_type": "code",
      "source": [
        "## numpy.eye() in Python\n",
        "np.eye(2,dtype=int)\n",
        "np.eye(4,5,k=-1,dtype=int)"
      ],
      "metadata": {
        "colab": {
          "base_uri": "https://localhost:8080/"
        },
        "id": "V5FimkqaF32_",
        "outputId": "45c5101f-f003-4e32-8bbe-b59d1a11014a"
      },
      "execution_count": 41,
      "outputs": [
        {
          "output_type": "execute_result",
          "data": {
            "text/plain": [
              "array([[0, 0, 0, 0, 0],\n",
              "       [1, 0, 0, 0, 0],\n",
              "       [0, 1, 0, 0, 0],\n",
              "       [0, 0, 1, 0, 0]])"
            ]
          },
          "metadata": {},
          "execution_count": 41
        }
      ]
    },
    {
      "cell_type": "code",
      "source": [
        "####How to create an empty and a full NumPy array?\n",
        "# empa = np.empty((3, 4), dtype=int)\n",
        "# print(\"Empty Array\")\n",
        "# print(empa)\n",
        "np.full((3,4),55,dtype=int)"
      ],
      "metadata": {
        "colab": {
          "base_uri": "https://localhost:8080/"
        },
        "id": "RDLQ9O7AG2RQ",
        "outputId": "7561839e-aeb3-436f-fa18-3f10cc002568"
      },
      "execution_count": 45,
      "outputs": [
        {
          "output_type": "execute_result",
          "data": {
            "text/plain": [
              "array([[55, 55, 55, 55],\n",
              "       [55, 55, 55, 55],\n",
              "       [55, 55, 55, 55]])"
            ]
          },
          "metadata": {},
          "execution_count": 45
        }
      ]
    }
  ]
}