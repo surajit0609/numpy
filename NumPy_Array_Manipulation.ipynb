{
  "nbformat": 4,
  "nbformat_minor": 0,
  "metadata": {
    "colab": {
      "name": "NumPy Array Manipulation.ipynb",
      "provenance": [],
      "authorship_tag": "ABX9TyNvT2LA6GyKXIjUWARATjF6",
      "include_colab_link": true
    },
    "kernelspec": {
      "name": "python3",
      "display_name": "Python 3"
    },
    "language_info": {
      "name": "python"
    }
  },
  "cells": [
    {
      "cell_type": "markdown",
      "metadata": {
        "id": "view-in-github",
        "colab_type": "text"
      },
      "source": [
        "<a href=\"https://colab.research.google.com/github/surajit0609/numpy/blob/main/NumPy_Array_Manipulation.ipynb\" target=\"_parent\"><img src=\"https://colab.research.google.com/assets/colab-badge.svg\" alt=\"Open In Colab\"/></a>"
      ]
    },
    {
      "cell_type": "code",
      "execution_count": 23,
      "metadata": {
        "colab": {
          "base_uri": "https://localhost:8080/"
        },
        "id": "3fJkZNLAoVZW",
        "outputId": "61a824b7-94f7-4f9a-f43c-2ba59ee19314"
      },
      "outputs": [
        {
          "output_type": "stream",
          "name": "stdout",
          "text": [
            "139941734419696\n",
            "139941734868432\n",
            "[67  2  3  4  5]\n",
            "[67  2  3  4  5]\n"
          ]
        }
      ],
      "source": [
        "#view in numpy\n",
        "import numpy as np\n",
        "arr=np.array([1,2,3,4,5])\n",
        "v=arr.view()\n",
        "print(id(v))\n",
        "print(id(arr))\n",
        "v[0]=67\n",
        "print(arr)\n",
        "print(v)"
      ]
    },
    {
      "cell_type": "code",
      "source": [
        "### copy\n",
        "arra=np.array((1,2,5,7,9))\n",
        "v=arra.copy()\n",
        "print(id(v))\n",
        "print(id(arra))\n",
        "v[2]=89\n",
        "print(arra)\n",
        "print(v)"
      ],
      "metadata": {
        "colab": {
          "base_uri": "https://localhost:8080/"
        },
        "id": "IX65J7TqqKIq",
        "outputId": "3c4e467c-d861-46f4-f1ab-f9753f362f62"
      },
      "execution_count": 9,
      "outputs": [
        {
          "output_type": "stream",
          "name": "stdout",
          "text": [
            "140238844884336\n",
            "140238844963408\n",
            "[1 2 5 7 9]\n",
            "[ 1  2 89  7  9]\n"
          ]
        }
      ]
    },
    {
      "cell_type": "code",
      "source": [
        "## Array Owning it’s Data\n",
        "import numpy as np\n",
        "\n",
        "# creating array\n",
        "arr = np.array([2, 4, 6, 8, 10])\n",
        "\n",
        "# creating copy of array\n",
        "c = arr.copy()\n",
        "\n",
        "# creating view of array\n",
        "v = arr.view()\n",
        "\n",
        "# printing base attribute of copy and view\n",
        "print(c.base)\n",
        "print(v.base)\n"
      ],
      "metadata": {
        "colab": {
          "base_uri": "https://localhost:8080/"
        },
        "id": "S6XQgBuHrOrk",
        "outputId": "2341753b-adee-4ec7-e382-31a9e4cf6ae7"
      },
      "execution_count": 10,
      "outputs": [
        {
          "output_type": "stream",
          "name": "stdout",
          "text": [
            "None\n",
            "[ 2  4  6  8 10]\n"
          ]
        }
      ]
    },
    {
      "cell_type": "code",
      "source": [
        "####How to Copy NumPy array into another array?\n",
        "## method 1\n",
        "arr=np.array([1,2,3,4,5,6,7])\n",
        "print(\"orignal arr:\",arr)\n",
        "copy=np.empty_like(arr)\n",
        "copy[:]=arr\n",
        "copy[1]=676\n",
        "print(copy)\n",
        "### method 2\n",
        "newarry=np.copy(arr)\n",
        "print(newarry)"
      ],
      "metadata": {
        "id": "WNCaPX-ldj1p"
      },
      "execution_count": null,
      "outputs": []
    },
    {
      "cell_type": "code",
      "source": [
        "######Appending values at the end of an NumPy array\n",
        "####Appending a single value to a 1D array\n",
        "arr=np.array([1,2,3,6,8,9])\n",
        "newarr=np.append(arr,7)\n",
        "print(newarr)\n",
        "###Example 2 \n",
        "arr1=np.array([1,2,3,5,7])\n",
        "arr2=np.array([5,8,2,7,9])\n",
        "newarr1=np.append(arr1,arr2)\n",
        "print(newarr1)\n",
        "###Appending values at the end of the n-dimensional array\n",
        "arr3 = np.arange (1,13).reshape(2, 6)\n",
        "col = np.arange(5, 11).reshape(1, 6)\n",
        "arr3_col=np.append(arr3,col,axis=0)\n",
        "arr3_col"
      ],
      "metadata": {
        "colab": {
          "base_uri": "https://localhost:8080/"
        },
        "id": "b8gZoqSCgXD_",
        "outputId": "2c25b6d4-2093-425a-fa43-e095a621f181"
      },
      "execution_count": 20,
      "outputs": [
        {
          "output_type": "stream",
          "name": "stdout",
          "text": [
            "[1 2 3 6 8 9 7]\n",
            "[1 2 3 5 7 5 8 2 7 9]\n"
          ]
        },
        {
          "output_type": "execute_result",
          "data": {
            "text/plain": [
              "array([[ 1,  2,  3,  4,  5,  6],\n",
              "       [ 7,  8,  9, 10, 11, 12],\n",
              "       [ 5,  6,  7,  8,  9, 10]])"
            ]
          },
          "metadata": {},
          "execution_count": 20
        }
      ]
    },
    {
      "cell_type": "code",
      "source": [
        "###How to swap columns of a given NumPy array?\n",
        "newarr = np.arange(12).reshape(3,4)\n",
        "print(newarr)\n",
        "## swap\n",
        "newarr[:,[0,3]]= newarr[:,[3,0]]\n",
        "print(newarr)"
      ],
      "metadata": {
        "id": "JRPbxwV-lS42"
      },
      "execution_count": null,
      "outputs": []
    },
    {
      "cell_type": "code",
      "source": [
        "####numpy.hstack() in Python\n",
        "arr=np.arange(8)\n",
        "arr1=np.arange(7)\n",
        "arr1\n",
        "new_arr=np.hstack((arr,arr1))\n",
        "print(new_arr)\n",
        "##2d arra\n",
        "in_arr1 = np.array([[ 1, 2, 3], [ -1, -2, -3]] )\n",
        "print (\"1st Input array : \\n\", in_arr1) \n",
        "  \n",
        "in_arr2 = np.array([[ 4, 5, 6], [ -4, -5, -6]] )\n",
        "print (\"2nd Input array : \\n\", in_arr2) \n",
        "  \n",
        "# Stacking the two arrays horizontally\n",
        "out_arr = np.hstack((in_arr1, in_arr2))\n",
        "print (\"Output stacked array :\\n \", out_arr)"
      ],
      "metadata": {
        "id": "TWkcFXXdxOVG"
      },
      "execution_count": null,
      "outputs": []
    },
    {
      "cell_type": "code",
      "source": [
        "###numpy.vstack() in python\n",
        "# Python program explaining\n",
        "# vstack() function\n",
        "\n",
        "import numpy as geek\n",
        "\n",
        "# input array\n",
        "in_arr1 = geek.array([ 1, 2, 3] )\n",
        "print (\"1st Input array : \\n\", in_arr1)\n",
        "\n",
        "in_arr2 = geek.array([ 4, 5, 6] )\n",
        "print (\"2nd Input array : \\n\", in_arr2)\n",
        "\n",
        "# Stacking the two arrays vertically\n",
        "out_arr = geek.vstack((in_arr1, in_arr2))\n",
        "print (\"Output vertically stacked array:\\n \", out_arr)\n"
      ],
      "metadata": {
        "id": "OEzJoTTKzKJV"
      },
      "execution_count": null,
      "outputs": []
    },
    {
      "cell_type": "code",
      "source": [
        "###Joining NumPy Array\n",
        "### numpy.concatenate()\n",
        "import numpy as np\n",
        "\n",
        "array_1 = np.array([1, 2])\n",
        "array_2 = np.array([3, 4])\n",
        "array_new = np.concatenate((array_1, array_2))\n",
        "print(array_new)\n",
        "arr1=np.stack((array_1,array_2))\n",
        "print(arr1)\n"
      ],
      "metadata": {
        "id": "4rsjGZVVz7ve"
      },
      "execution_count": null,
      "outputs": []
    },
    {
      "cell_type": "code",
      "source": [
        "###Numpy dstack() method\n",
        "# import numpy\n",
        "import numpy as np\n",
        "\n",
        "gfg1 = np.array([1, 2, 3])\n",
        "gfg2 = np.array([4, 5, 6])\n",
        "\n",
        "# using numpy.dstack() method\n",
        "print(np.dstack((gfg1, gfg2)))\n"
      ],
      "metadata": {
        "colab": {
          "base_uri": "https://localhost:8080/"
        },
        "id": "smGMTq6l098V",
        "outputId": "3c9aba86-ef7f-493a-e579-0610d70d7eb7"
      },
      "execution_count": 41,
      "outputs": [
        {
          "output_type": "stream",
          "name": "stdout",
          "text": [
            "[[[1 4]\n",
            "  [2 5]\n",
            "  [3 6]]]\n"
          ]
        }
      ]
    },
    {
      "cell_type": "code",
      "source": [
        "#####How to compare two NumPy arrays?\n",
        "an_array = np.array([[1, 2], [3, 4]])\n",
        "another_array = np.array([[1, 2], [3, 4]])\n",
        "comp=an_array == another_array\n",
        "newarr=comp.all()\n",
        "print(newarr)\n",
        "a = np.array([101, 99, 87])\n",
        "b = np.array([897, 97, 111])\n",
        "print(\"a>b\")\n",
        "print(np.greater(a,b))\n",
        "print(\"a<b\")\n",
        "print(np.less(a,b))\n",
        "print(\"a>=b\")\n",
        "print(np.greater_equal(a,b))\n",
        "print(\"a<=b\")\n",
        "print(np.less_equal(a,b))"
      ],
      "metadata": {
        "id": "FynCsBBD1slW"
      },
      "execution_count": null,
      "outputs": []
    },
    {
      "cell_type": "code",
      "source": [
        "###Find the union of two NumPy arrays\n",
        "arr1 = np.array([10, 20, 30, 40])\n",
        "arr2 = np.array([20, 40, 60, 80])\n",
        "v=np.union1d(arr1, arr2)\n",
        "v\n",
        "# import library\n",
        "import numpy as np\n",
        "\n",
        "# Create a 2D numpy array\n",
        "arr2D = np.array([[11, 11, 12, 11],\n",
        "\t\t\t\t\t[13, 11, 12, 11],\n",
        "\t\t\t\t\t[16, 11, 12, 11],\n",
        "\t\t\t\t\t[11, 11, 12, 11]])\n",
        "\n",
        "print('Original Array :' ,\n",
        "\tarr2D, sep = '\\n')\n",
        "\n",
        "# Get unique rows from\n",
        "# complete 2D-array by\n",
        "# passing axis = 0 in\n",
        "# unique function along\n",
        "# with 2D-array\n",
        "uniqueRows = np.unique(arr2D,\n",
        "\t\t\t\t\taxis = 0)\n",
        "\n",
        "# print the output result\n",
        "print('Unique Rows:',\n",
        "\tuniqueRows, sep = '\\n')\n"
      ],
      "metadata": {
        "id": "r0huTtAr-Eb0"
      },
      "execution_count": null,
      "outputs": []
    },
    {
      "cell_type": "code",
      "source": [
        "####Numpy np.unique() method\n",
        "# import numpy\n",
        "import numpy as np\n",
        "\n",
        "a = [1, 2, 2, 4, 3, 6, 4, 8]\n",
        "\n",
        "# using np.unique() method\n",
        "gfg = np.unique(a)\n",
        "\n",
        "print(gfg)\n"
      ],
      "metadata": {
        "colab": {
          "base_uri": "https://localhost:8080/"
        },
        "id": "4Z7vCtiQ_IQz",
        "outputId": "ecbc8b18-fdd7-4c3e-b0e6-1f4a7eaaf052"
      },
      "execution_count": 51,
      "outputs": [
        {
          "output_type": "stream",
          "name": "stdout",
          "text": [
            "[1 2 3 4 6 8]\n"
          ]
        }
      ]
    }
  ]
}